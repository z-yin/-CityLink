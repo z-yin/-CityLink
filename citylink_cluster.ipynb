{
 "cells": [
  {
   "cell_type": "code",
   "execution_count": 2,
   "metadata": {},
   "outputs": [],
   "source": [
    "import os\n",
    "import jieba\n",
    "import pprint\n",
    "import re, string\n",
    "from collections import defaultdict\n",
    "from gensim.models.keyedvectors import KeyedVectors\n",
    "from smart_open import open # for transparently opening compressed files"
   ]
  },
  {
   "cell_type": "code",
   "execution_count": 3,
   "metadata": {},
   "outputs": [],
   "source": [
    "class MyCorpus:\n",
    "    \"\"\"Corpus that handles one document at a time\n",
    "    \"\"\"\n",
    "    def __init__(self, root_path, file_list):\n",
    "        \"\"\"\n",
    "        Args:\n",
    "            root_path - root path to the files\n",
    "            file_list - list of website files\n",
    "        \"\"\"\n",
    "        self.root_path = root_path\n",
    "        self.file_list = file_list\n",
    "    \n",
    "    def __iter__(self):\n",
    "        for filename in self.file_list:\n",
    "            with open(root_path + filename, encoding='utf-8') as f:\n",
    "                for line in f:\n",
    "                    if line == '' or line.startswith('\\r') or line.startswith('WARC') or line.startswith('Content'):\n",
    "                        continue\n",
    "                    line = re.sub(r'[a-zA-Z]', '', line)  # remove English characters\n",
    "                    line = re.sub('[%s]' % (string.punctuation + string.digits), '', line)  # remove digits\n",
    "                    if line == '\\r':\n",
    "                        continue\n",
    "                    yield jieba.cut(line, cut_all=False)"
   ]
  },
  {
   "cell_type": "code",
   "execution_count": 4,
   "metadata": {},
   "outputs": [
    {
     "ename": "FileNotFoundError",
     "evalue": "[Errno 2] No such file or directory: '../webdata'",
     "output_type": "error",
     "traceback": [
      "\u001b[0;31m---------------------------------------------------------------------------\u001b[0m",
      "\u001b[0;31mFileNotFoundError\u001b[0m                         Traceback (most recent call last)",
      "\u001b[0;32m<ipython-input-4-782dad0cbee4>\u001b[0m in \u001b[0;36m<module>\u001b[0;34m\u001b[0m\n\u001b[0;32m----> 1\u001b[0;31m \u001b[0mfile_list\u001b[0m \u001b[0;34m=\u001b[0m \u001b[0;34m[\u001b[0m\u001b[0mf\u001b[0m \u001b[0;32mfor\u001b[0m \u001b[0mf\u001b[0m \u001b[0;32min\u001b[0m \u001b[0mos\u001b[0m\u001b[0;34m.\u001b[0m\u001b[0mlistdir\u001b[0m\u001b[0;34m(\u001b[0m\u001b[0;34m'../webdata'\u001b[0m\u001b[0;34m)\u001b[0m \u001b[0;32mif\u001b[0m \u001b[0mf\u001b[0m\u001b[0;34m.\u001b[0m\u001b[0mstartswith\u001b[0m\u001b[0;34m(\u001b[0m\u001b[0;34m'part-'\u001b[0m\u001b[0;34m)\u001b[0m\u001b[0;34m]\u001b[0m\u001b[0;34m[\u001b[0m\u001b[0;34m:\u001b[0m\u001b[0;36m2\u001b[0m\u001b[0;34m]\u001b[0m\u001b[0;34m\u001b[0m\u001b[0;34m\u001b[0m\u001b[0m\n\u001b[0m\u001b[1;32m      2\u001b[0m \u001b[0mmy_corpus\u001b[0m \u001b[0;34m=\u001b[0m \u001b[0mMyCorpus\u001b[0m\u001b[0;34m(\u001b[0m\u001b[0;34m'../webdata'\u001b[0m\u001b[0;34m,\u001b[0m \u001b[0mfile_list\u001b[0m\u001b[0;34m)\u001b[0m\u001b[0;34m\u001b[0m\u001b[0;34m\u001b[0m\u001b[0m\n",
      "\u001b[0;31mFileNotFoundError\u001b[0m: [Errno 2] No such file or directory: '../webdata'"
     ]
    }
   ],
   "source": [
    "file_list = [f for f in os.listdir('../webdata') if f.startswith('part-')][:2]\n",
    "my_corpus = MyCorpus('../webdata', file_list)"
   ]
  },
  {
   "cell_type": "code",
   "execution_count": 6,
   "metadata": {},
   "outputs": [],
   "source": [
    "embedding_file = '../embedding/Tencent_AILab_ChineseEmbedding.txt'\n",
    "wv_from_text = KeyedVectors.load_word2vec_format(embedding_file, binary=False)"
   ]
  },
  {
   "cell_type": "code",
   "execution_count": 7,
   "metadata": {},
   "outputs": [
    {
     "data": {
      "text/plain": [
       "[('皇后', 0.8758628368377686),\n",
       " ('太后', 0.8436370491981506),\n",
       " ('皇太后', 0.8422078490257263),\n",
       " ('妃子', 0.8377931118011475),\n",
       " ('嫔妃', 0.8314578533172607),\n",
       " ('后宫嫔妃', 0.8293792009353638),\n",
       " ('后宫妃子', 0.8252508044242859),\n",
       " ('后妃', 0.8230723738670349),\n",
       " ('贵妃', 0.8157583475112915),\n",
       " ('妃嫔', 0.8150229454040527)]"
      ]
     },
     "execution_count": 7,
     "metadata": {},
     "output_type": "execute_result"
    }
   ],
   "source": [
    "wv_from_text.most_similar(positive=['女人', '皇帝'], negative=['男人'])"
   ]
  },
  {
   "cell_type": "code",
   "execution_count": 8,
   "metadata": {},
   "outputs": [
    {
     "data": {
      "text/plain": [
       "[('及体育', 0.745394229888916),\n",
       " ('以及体育', 0.7444100379943848),\n",
       " ('体育传媒', 0.7442153096199036),\n",
       " ('体育科技', 0.7429567575454712),\n",
       " ('包括体育', 0.7428886294364929),\n",
       " ('体育方面', 0.7395599484443665),\n",
       " ('体育领域', 0.7245116233825684),\n",
       " ('体育产业', 0.7185760736465454),\n",
       " ('体育相关', 0.7166426181793213),\n",
       " ('娱乐体育', 0.7142459750175476)]"
      ]
     },
     "execution_count": 8,
     "metadata": {},
     "output_type": "execute_result"
    }
   ],
   "source": [
    "wv_from_text.similar_by_word('体育')"
   ]
  },
  {
   "cell_type": "code",
   "execution_count": 9,
   "metadata": {},
   "outputs": [
    {
     "data": {
      "text/plain": [
       "0.5286123"
      ]
     },
     "execution_count": 9,
     "metadata": {},
     "output_type": "execute_result"
    }
   ],
   "source": [
    "wv_from_text.similarity('体育', '金融')"
   ]
  },
  {
   "cell_type": "code",
   "execution_count": null,
   "metadata": {},
   "outputs": [],
   "source": []
  }
 ],
 "metadata": {
  "kernelspec": {
   "display_name": "Python 3",
   "language": "python",
   "name": "python3"
  },
  "language_info": {
   "codemirror_mode": {
    "name": "ipython",
    "version": 3
   },
   "file_extension": ".py",
   "mimetype": "text/x-python",
   "name": "python",
   "nbconvert_exporter": "python",
   "pygments_lexer": "ipython3",
   "version": "3.7.3"
  }
 },
 "nbformat": 4,
 "nbformat_minor": 4
}
